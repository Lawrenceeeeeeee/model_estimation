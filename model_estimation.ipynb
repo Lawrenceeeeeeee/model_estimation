{
 "cells": [
  {
   "cell_type": "code",
   "execution_count": 1,
   "metadata": {},
   "outputs": [
    {
     "name": "stdout",
     "output_type": "stream",
     "text": [
      "['lcavol' 'lweight' 'age' 'lbph' 'svi' 'lcp' 'pgg45']\n",
      "(0.5413069569841585, array(['lcavol', 'lweight', 'age', 'lbph', 'svi', 'lcp', 'pgg45'],\n",
      "      dtype='<U7'))\n"
     ]
    }
   ],
   "source": [
    "import numpy as np\n",
    "from src import ModelEstimation as me\n",
    "\n",
    "\n",
    "x = np.loadtxt(\"data/x.txt\", delimiter=\",\")\n",
    "y = np.loadtxt(\"data/y.txt\", delimiter=\",\")\n",
    "index = np.loadtxt(\"data/index.txt\", delimiter=\",\", dtype=bool)\n",
    "names = np.loadtxt(\"data/names.txt\", delimiter=\",\", dtype=str)\n",
    "analysis = me.ModelEstimation(x, y, index, names)\n",
    "res = analysis.cross_validation(10)\n",
    "print(res)"
   ]
  },
  {
   "cell_type": "code",
   "execution_count": 2,
   "metadata": {},
   "outputs": [
    {
     "name": "stdout",
     "output_type": "stream",
     "text": [
      "(array(['lcavol', 'svi', 'gleason'], dtype='<U7'), (1.2739701174353284, array([0.59521212, 0.53603447, 0.04108558])), 42.267033549980006, 11.484037587414825, 3)\n"
     ]
    }
   ],
   "source": [
    "osr = me.ModelEstimation(x, y, index, names)\n",
    "res = osr.osr()\n",
    "print(res)"
   ]
  },
  {
   "cell_type": "code",
   "execution_count": null,
   "metadata": {},
   "outputs": [],
   "source": []
  }
 ],
 "metadata": {
  "kernelspec": {
   "display_name": "base",
   "language": "python",
   "name": "python3"
  },
  "language_info": {
   "codemirror_mode": {
    "name": "ipython",
    "version": 3
   },
   "file_extension": ".py",
   "mimetype": "text/x-python",
   "name": "python",
   "nbconvert_exporter": "python",
   "pygments_lexer": "ipython3",
   "version": "3.10.12"
  }
 },
 "nbformat": 4,
 "nbformat_minor": 2
}
